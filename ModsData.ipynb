{
 "cells": [
  {
   "cell_type": "code",
   "execution_count": 38,
   "id": "29a58395-7663-4bf6-941a-6ca42602f7f2",
   "metadata": {},
   "outputs": [
    {
     "name": "stdout",
     "output_type": "stream",
     "text": [
      "Open 9-5 daily\n"
     ]
    }
   ],
   "source": [
    "from Documents import zoo\n",
    "\n",
    "zoo.hours()"
   ]
  },
  {
   "cell_type": "code",
   "execution_count": 40,
   "id": "6e791ea7-be8d-4714-be99-6c77237573af",
   "metadata": {},
   "outputs": [
    {
     "name": "stdout",
     "output_type": "stream",
     "text": [
      "Open 9-5 daily\n"
     ]
    }
   ],
   "source": [
    "from Documents import zoo as menagerie\n",
    "\n",
    "menagerie.hours()"
   ]
  },
  {
   "cell_type": "code",
   "execution_count": 46,
   "id": "234fef2b-92a3-4a3f-8249-d0bc80fe9707",
   "metadata": {},
   "outputs": [],
   "source": [
    "import csv \n",
    "\n",
    "books = [ \n",
    "    { 'title': 'The weirdstone of Brisingamen', 'author': 'Alan Garner', 'year': '1960'},\n",
    "    { 'title': 'Perdido Street Station', 'author': 'China Miéville', 'year': '2000'},\n",
    "    { 'title': 'Thud!', 'author': 'Terry Pratchett', 'year': '2005'},\n",
    "    { 'title': 'The Spellman Files', 'author': 'Lisa Lutz', 'year': '2007'},\n",
    "    { 'title': 'Small Gods', 'author': 'Terry Pratchett', 'year': '1992'},\n",
    "]\n",
    "\n",
    "with open('books2.csv', 'wt') as fout:\n",
    "    cout = csv.DictWriter(fout, ['title', 'author', 'year'])\n",
    "    cout.writeheader()\n",
    "    cout.writerows(books)\n",
    "    "
   ]
  },
  {
   "cell_type": "code",
   "execution_count": 50,
   "id": "e3ff505a-9b01-48a2-8205-7170009b8bf2",
   "metadata": {},
   "outputs": [
    {
     "data": {
      "text/plain": [
       "<sqlite3.Cursor at 0x11a8fb540>"
      ]
     },
     "execution_count": 50,
     "metadata": {},
     "output_type": "execute_result"
    }
   ],
   "source": [
    "import sqlite3\n",
    "\n",
    "conn = sqlite3.connect('books.db')\n",
    "curs = conn.cursor()\n",
    "curs.execute('''CREATE TABLE books (title VARCHAR(64) PRIMARY KEY, author VARCHAR(64), year VARCHAR(4))''')"
   ]
  },
  {
   "cell_type": "code",
   "execution_count": 90,
   "id": "6eb7623d-a6b5-49be-9644-bee74f8493f4",
   "metadata": {},
   "outputs": [],
   "source": [
    "import csv \n",
    "import sqlite3\n",
    "conn = sqlite3.connect('books.db')\n",
    "curs = conn.cursor()\n",
    "\n",
    "with open('books2.csv', 'rt') as fin:\n",
    "    cin = csv.DictReader(fin)\n",
    "    books = [row for row in cin]\n",
    "\n",
    "for n in range(len(books)):\n",
    "    holdDict = books[n]\n",
    "    holdTitle = holdDict['title']\n",
    "    holdAuthor = holdDict['author']\n",
    "    holdYear = holdDict['year']\n",
    "\n",
    "    ins = 'INSERT INTO books (title, author, year) VALUES(?, ?, ?)'\n",
    "    \n",
    "    curs.execute(ins, (holdTitle, holdAuthor, holdYear))\n",
    "\n",
    "conn.commit()\n",
    "conn.close()"
   ]
  },
  {
   "cell_type": "code",
   "execution_count": 144,
   "id": "205d256e-2d6a-4c06-a5c8-78d50734b512",
   "metadata": {},
   "outputs": [
    {
     "name": "stdout",
     "output_type": "stream",
     "text": [
      "('Perdido Street Station',)\n",
      "('Small Gods',)\n",
      "('The Spellman Files',)\n",
      "('The weirdstone of Brisingamen',)\n",
      "('Thud!',)\n"
     ]
    }
   ],
   "source": [
    "import sqlalchemy as sa\n",
    "\n",
    "engine = sa.create_engine('sqlite:///books.db')\n",
    "\n",
    "with engine.connect() as conn:\n",
    "    results = conn.execute(sa.text('SELECT title FROM books ORDER BY title ASC'))\n",
    "\n",
    "for row in results:\n",
    "    print(row)"
   ]
  },
  {
   "cell_type": "code",
   "execution_count": null,
   "id": "d694c7d6-f6f8-472e-96c5-c82aba9b8604",
   "metadata": {},
   "outputs": [],
   "source": []
  }
 ],
 "metadata": {
  "kernelspec": {
   "display_name": "Python 3 (ipykernel)",
   "language": "python",
   "name": "python3"
  },
  "language_info": {
   "codemirror_mode": {
    "name": "ipython",
    "version": 3
   },
   "file_extension": ".py",
   "mimetype": "text/x-python",
   "name": "python",
   "nbconvert_exporter": "python",
   "pygments_lexer": "ipython3",
   "version": "3.12.4"
  }
 },
 "nbformat": 4,
 "nbformat_minor": 5
}
